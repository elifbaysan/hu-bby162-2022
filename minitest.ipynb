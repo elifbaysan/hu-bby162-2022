{
  "nbformat": 4,
  "nbformat_minor": 0,
  "metadata": {
    "colab": {
      "name": "Proje03.ipynb",
      "provenance": [],
      "authorship_tag": "ABX9TyOIRpub5EZmHlHuJu4Id4+F",
      "include_colab_link": true
    },
    "kernelspec": {
      "name": "python3",
      "display_name": "Python 3"
    },
    "language_info": {
      "name": "python"
    }
  },
  "cells": [
    {
      "cell_type": "markdown",
      "metadata": {
        "id": "view-in-github",
        "colab_type": "text"
      },
      "source": [
        "<a href=\"https://colab.research.google.com/github/elifbaysan/hu-bby162-2022/blob/main/Minitest.ipynb\" target=\"_parent\"><img src=\"https://colab.research.google.com/assets/colab-badge.svg\" alt=\"Open In Colab\"/></a>"
      ]
    },
    {
      "cell_type": "code",
      "execution_count": 4,
      "metadata": {
        "id": "KxIJHdK3yIGX",
        "outputId": "da431983-16c8-4712-eaba-7b5031cfc1c2",
        "colab": {
          "base_uri": "https://localhost:8080/",
          "height": 130
        }
      },
      "outputs": [
        {
          "output_type": "error",
          "ename": "IndentationError",
          "evalue": "ignored",
          "traceback": [
            "\u001b[0;36m  File \u001b[0;32m\"<ipython-input-4-402af0504817>\"\u001b[0;36m, line \u001b[0;32m9\u001b[0m\n\u001b[0;31m    print(\"Doğru cevap\")\u001b[0m\n\u001b[0m        ^\u001b[0m\n\u001b[0;31mIndentationError\u001b[0m\u001b[0;31m:\u001b[0m expected an indented block\n"
          ]
        }
      ],
      "source": [
        "print(\"Mini teste hoşgeldiniz!\")\n",
        "print(\"Cevaplarınızı d ya da y olarak giriniz\")\n",
        "sorular=[\"soğuk\", \"sıcak\", \"iyi\", \"kötü\", \"güzel\"]\n",
        "cevaplar=[\"d\", \"d\", \"y\", \"d\", \"y\"]\n",
        "puan=0\n",
        "print(\"1.\" +sorular[0])\n",
        "cevap= input(\"Cevabınız: \")\n",
        "if cevap == cevaplar[0]:\n",
        "print(\"Doğru cevap\")\n",
        "puan +=1\n",
        "else:\n",
        "    print(\"Yanlış cevap \")\n",
        "print(\"2.\" +sorular[1])\n",
        "cevap= input(\"Cevabınız: \")\n",
        "if cevap == cevaplar[1]:\n",
        "print(\"Doğru cevap\")\n",
        "puan +=1\n",
        "else:\n",
        "    print(\"Yanlış cevap \")\n",
        "print(\"3.\" +sorular[2])\n",
        "cevap= input(\"Cevabınız: \")\n",
        "if cevap == cevaplar[2]:\n",
        "print(\"Doğru cevap\")\n",
        "puan +=1\n",
        "else:\n",
        "    print(\"Yanlış cevap \")\n",
        "print(\"4.\" +sorular[3])\n",
        "cevap= input(\"Cevabınız: \")\n",
        "if cevap == cevaplar[4]:\n",
        "print(\"Doğru cevap\")\n",
        "puan +=1\n",
        "else:\n",
        "    print(\"Yanlış cevap \")\n",
        "print(\"5.\" +sorular[4])\n",
        "cevap= input(\"Cevabınız: \")\n",
        "if cevap == cevaplar[4]\n",
        "print(\"Doğru cevap\")\n",
        "puan +=1\n",
        "else:\n",
        "    print(\"Yanlış cevap \")\n",
        "print(puan)"
      ]
    }
  ]
}
