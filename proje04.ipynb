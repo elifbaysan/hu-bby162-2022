{
  "nbformat": 4,
  "nbformat_minor": 0,
  "metadata": {
    "colab": {
      "name": "proje04.ipynb",
      "provenance": [],
      "mount_file_id": "1m3F2OYRXs_RjeP2Tu_B88ekhyPhtalzQ",
      "authorship_tag": "ABX9TyNR8MKTt9ETstSC+gR8t4/G",
      "include_colab_link": true
    },
    "kernelspec": {
      "name": "python3",
      "display_name": "Python 3"
    },
    "language_info": {
      "name": "python"
    }
  },
  "cells": [
    {
      "cell_type": "markdown",
      "metadata": {
        "id": "view-in-github",
        "colab_type": "text"
      },
      "source": [
        "<a href=\"https://colab.research.google.com/github/elifbaysan/hu-bby162-2022/blob/main/proje04.ipynb\" target=\"_parent\"><img src=\"https://colab.research.google.com/assets/colab-badge.svg\" alt=\"Open In Colab\"/></a>"
      ]
    },
    {
      "cell_type": "code",
      "execution_count": null,
      "metadata": {
        "id": "tq0sfzuyHNVq"
      },
      "outputs": [],
      "source": [
        "from google.colab import drive\n",
        "drive.belge('/content/drive')\n",
        "dosya = \"/content/drive/MyDrive/veritabanı.txt\"\n",
        "isim= input(\"Lütfen isminizi giriniz: \")\n",
        "print(\"Hoşgeldiniz...\" + isim)\n",
        "class kitapkataloğu:\n",
        "  def sonuc(self):\n",
        "      while True:\n",
        "         kitaplar = []\n",
        "         deneme = open(dosya,\"r\" , encoding )\n",
        "         for i in deneme.read().strip().split(\"\\n\"):\n",
        "             kitap = i.strip().split(\"|\")\n",
        "             kitaplar += [kitap]\n",
        "         deneme.close()\n",
        "         self.kitaplar = kitaplar\n",
        "         secim =input(\" Kayıtları listelemek için: [1], \\n yeni kayıt eklemek için: [2], \\n Eserin adı, yazar adı, eserin yayın yılı ve yayınevine göre kayıt aramak için: [3], \\n çıkış[4] \\n\")\n",
        "\n",
        "         if secim == \"1\":\n",
        "             self.kitaplistele()\n",
        "        elif secim == \"2\":\n",
        "            self.eserekle()\n",
        "        elif secim == \"3\":\n",
        "            self.eserara()\n",
        "        elif secim == \"4\":\n",
        "            break\n",
        "\n",
        "def __init__(self):\n",
        "  kitaplar = []\n",
        "  deneme = open(dosya,\"r\",encoding )\n",
        "  for i in deneme.read().strip().split(\"\\n\"):\n",
        "    kitap = i.strip().split(\"|\")\n",
        "    kitaplar += [kitap]\n",
        "    deneme.close()\n",
        "    self.kitaplar = kitaplar\n",
        "    kitaplar = None\n",
        "    def eserekle(self):\n",
        "        yazaradı = input(\"yazar adını giriniz: \")\n",
        "        eseradı = input(\"eser adını giriniz: \")\n",
        "        yayınyılı = input(\"yayın yılını giriniz: \")\n",
        "        yayınevı = input(\"yayınevini giriniz: \")\n",
        "        \n",
        "        yenikitapekle = (yazaradı+ \"|\"+ eseradı + \"|\" + yayınyılı + \"|\" + yayınevı +\" \\n\")\n",
        "        print(\"eser bilgileriniz kataloga eklendi\")\n",
        "        deneme = open(dosya,\"a\",encoding  )\n",
        "        deneme.write(yenikitapekle)\n",
        "        deneme.close()\n",
        "        \n",
        "\n",
        "    def kitaplistele(self):\n",
        "        if len(self.books) < 1:\n",
        "            print(\"Katalogda aradığınız kayıt bulunamadı. \")\n",
        "            return None\n",
        "\n",
        "        bos  = \"\"\n",
        "        for kitap in self.kitaplar:\n",
        "            bos += ('eseradı:' +kitap[1]+ '\\n')\n",
        "            bos += ('yazaradı:' +kitap[2] +'\\n')\n",
        "            bos += ('yayınyılı:' +kitap[3]+ '\\n')\n",
        "            bos += ('yayınevi:' +kitap[4]+ '\\n')\n",
        "            bos += (\"-\"*60 + \"\\n\")\n",
        "        print(bos)\n",
        "\n",
        "    def eserara(self):\n",
        "        anahtarkelıme = input(\"Anahtar kelime giriniz:\")\n",
        "        bos = \"\"\n",
        "\n",
        "        for book in self.kitaplar:\n",
        "            if len(self.kitaplar) > 0 and anahtarkelıme in kitap:\n",
        "                bos += ('eseradı:' +kitap[1]+ '\\n')\n",
        "                bos += ('yazaradı:' +kitap[2]+ '\\n')\n",
        "                bos += ('yayınyılı:' +kitap[3]+ '\\n')\n",
        "                bos += ('yayınevi:' +kitap[4]+ '\\n\\n')\n",
        "                \n",
        "        if bos== \"\":\n",
        "             print(\"aradığınız kayıt bulunamadı\")\n",
        "      \n",
        "\n",
        "     \n",
        "    \n",
        "   \n",
        "kitapkatalogu().sonuc()\n"
      ]
    }
  ]
}