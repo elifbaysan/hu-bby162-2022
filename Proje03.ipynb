{
  "nbformat": 4,
  "nbformat_minor": 0,
  "metadata": {
    "colab": {
      "name": "Proje03.ipynb",
      "provenance": [],
      "authorship_tag": "ABX9TyOOCAEr3Q9azmZwEUo0C3M9",
      "include_colab_link": true
    },
    "kernelspec": {
      "name": "python3",
      "display_name": "Python 3"
    },
    "language_info": {
      "name": "python"
    }
  },
  "cells": [
    {
      "cell_type": "markdown",
      "metadata": {
        "id": "view-in-github",
        "colab_type": "text"
      },
      "source": [
        "<a href=\"https://colab.research.google.com/github/elifbaysan/hu-bby162-2022/blob/main/Proje03.ipynb\" target=\"_parent\"><img src=\"https://colab.research.google.com/assets/colab-badge.svg\" alt=\"Open In Colab\"/></a>"
      ]
    },
    {
      "cell_type": "code",
      "execution_count": 4,
      "metadata": {
        "id": "KxIJHdK3yIGX",
        "outputId": "cb6a3574-1e2b-461c-93e9-3ceaa86c82e2",
        "colab": {
          "base_uri": "https://localhost:8080/",
          "height": 130
        }
      },
      "outputs": [
        {
          "output_type": "error",
          "ename": "SyntaxError",
          "evalue": "ignored",
          "traceback": [
            "\u001b[0;36m  File \u001b[0;32m\"<ipython-input-4-78dd767b5da7>\"\u001b[0;36m, line \u001b[0;32m10\u001b[0m\n\u001b[0;31m    else :\u001b[0m\n\u001b[0m       ^\u001b[0m\n\u001b[0;31mSyntaxError\u001b[0m\u001b[0;31m:\u001b[0m invalid syntax\n"
          ]
        }
      ],
      "source": [
        "print(\"Mini teste hoşgeldiniz!\")\n",
        "print(\"Cevaplarınızı d ya da y olarak giriniz\")\n",
        "sorular=[\"Türkiye'nin başkenti istanbuldur.\", \"ULAKBİM TUBİTAK tarafından kurulmuştur.\", \"Pisa Kulesi İtalya'da bulunmaktadır.\", \"Alfabemizde 32 harf vardır.\", \"Almanya Avrupa Ülkesidir.\"]\n",
        "cevaplar=[\"Y\", \"D\", \"D\", \"Y\", \"D\"]\n",
        "print(\"1.soru\" + sorular[0])\n",
        "cevap = input(\"Cevabınız: \")\n",
        "if cevap == cevaplar[0]:\n",
        " print(\"Doğru bildiniz!\")\n",
        "puan += 20\n",
        "else :\n",
        " print(\"Yanlış cevap\")  \n",
        "print(\"2.soru\" + sorular[1])\n",
        "cevap = input(\"Cevabınız: \")\n",
        "if cevap == cevaplar[1]:\n",
        " print(\"Doğru bildiniz!\")\n",
        "puan += 20  \n",
        "else :\n",
        " print(\"Yanlış cevap\")\n",
        "print(\"3.soru\" + sorular[2])\n",
        "cevap = input(\"Cevabınız: \")\n",
        "if cevap == cevaplar[2]:\n",
        " print(\"Doğru bildiniz!\")\n",
        "puan += 20\n",
        "else : \n",
        " print(\"Yanlış cevap\")\n",
        "print(\"4.soru\" + sorular[3])\n",
        "cevap = input(\"Cevabınız: \")\n",
        "if cevap == cevaplar[3]:\n",
        " print(\"Doğru bildiniz!\")\n",
        "puan += 20\n",
        "else : \n",
        " print(\"Yanlış cevap\")\n",
        "print(\"5.soru\" + sorular[4])\n",
        "cevap = input(\"Cevabınız: \")\n",
        "if cevap == cevaplar[4]:\n",
        " print(\"Doğru bildiniz!\")\n",
        "puan += 20\n",
        "else :\n",
        " print(\"Yanlış bildiniz\") \n",
        "elif puan < 60:\n",
        " print(\"Testi geçemediniz, tekrar deneyin\")\n",
        "elif puan == 60:\n",
        " print(\"Tebrikler, testi geçtiniz\")\n",
        "\n",
        "\n"
      ]
    }
  ]
}