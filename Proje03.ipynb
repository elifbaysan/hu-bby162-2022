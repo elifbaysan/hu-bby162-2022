{
  "nbformat": 4,
  "nbformat_minor": 0,
  "metadata": {
    "colab": {
      "name": "Proje03.ipynb",
      "provenance": [],
      "authorship_tag": "ABX9TyN03RTiE4uKtV93LHA5zOWP",
      "include_colab_link": true
    },
    "kernelspec": {
      "name": "python3",
      "display_name": "Python 3"
    },
    "language_info": {
      "name": "python"
    }
  },
  "cells": [
    {
      "cell_type": "markdown",
      "metadata": {
        "id": "view-in-github",
        "colab_type": "text"
      },
      "source": [
        "<a href=\"https://colab.research.google.com/github/elifbaysan/hu-bby162-2022/blob/main/Proje03.ipynb\" target=\"_parent\"><img src=\"https://colab.research.google.com/assets/colab-badge.svg\" alt=\"Open In Colab\"/></a>"
      ]
    },
    {
      "cell_type": "code",
      "execution_count": null,
      "metadata": {
        "id": "KxIJHdK3yIGX"
      },
      "outputs": [],
      "source": [
        "print(\"Mini teste hoşgeldiniz!\")\n",
        "print(\"Cevaplarınızı d ya da y olarak giriniz\")\n",
        "sorular=[]"
      ]
    }
  ]
}