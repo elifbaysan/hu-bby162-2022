{
  "nbformat": 4,
  "nbformat_minor": 0,
  "metadata": {
    "colab": {
      "name": "Proje01.ipynb",
      "provenance": [],
      "authorship_tag": "ABX9TyOEthQzKI0HAh/Y18C1Xnzs",
      "include_colab_link": true
    },
    "kernelspec": {
      "name": "python3",
      "display_name": "Python 3"
    },
    "language_info": {
      "name": "python"
    }
  },
  "cells": [
    {
      "cell_type": "markdown",
      "metadata": {
        "id": "view-in-github",
        "colab_type": "text"
      },
      "source": [
        "<a href=\"https://colab.research.google.com/github/elifbaysan/hu-bby162-2022/blob/main/Proje01.ipynb\" target=\"_parent\"><img src=\"https://colab.research.google.com/assets/colab-badge.svg\" alt=\"Open In Colab\"/></a>"
      ]
    },
    {
      "cell_type": "code",
      "execution_count": 1,
      "metadata": {
        "colab": {
          "base_uri": "https://localhost:8080/"
        },
        "id": "PKPfi3jQvEzF",
        "outputId": "741183f7-06da-42e4-eff4-c09c6e06e861"
      },
      "outputs": [
        {
          "output_type": "stream",
          "name": "stdout",
          "text": [
            "İndeks numaranızı giriniz: 3\n",
            "salam\n"
          ]
        }
      ],
      "source": [
        "liste = ['tavşan', 'marul', 'leopar', 'salam', 'demir', 'tahta']\n",
        "secim =input('İndeks numaranızı giriniz: ')\n",
        "if secim.isdigit():\n",
        "  secim = int(secim)\n",
        "  listetoplam = len(liste)\n",
        "  if secim < listetoplam:\n",
        "    print(liste[secim])\n",
        "  else:\n",
        "      print('İndeks dışı giriş..')"
      ]
    }
  ]
}
