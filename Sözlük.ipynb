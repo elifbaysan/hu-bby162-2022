{
  "nbformat": 4,
  "nbformat_minor": 0,
  "metadata": {
    "colab": {
      "name": "Sözlük.ipynb",
      "provenance": [],
      "authorship_tag": "ABX9TyMzqEbx+zCIUM4Ddh2JK4zw",
      "include_colab_link": true
    },
    "kernelspec": {
      "name": "python3",
      "display_name": "Python 3"
    },
    "language_info": {
      "name": "python"
    }
  },
  "cells": [
    {
      "cell_type": "markdown",
      "metadata": {
        "id": "view-in-github",
        "colab_type": "text"
      },
      "source": [
        "<a href=\"https://colab.research.google.com/github/elifbaysan/hu-bby162-2022/blob/main/S%C3%B6zl%C3%BCk.ipynb\" target=\"_parent\"><img src=\"https://colab.research.google.com/assets/colab-badge.svg\" alt=\"Open In Colab\"/></a>"
      ]
    },
    {
      "cell_type": "code",
      "execution_count": null,
      "metadata": {
        "id": "on9TynlqpEma"
      },
      "outputs": [],
      "source": [
        "#sözlük oluşturma\n",
        "sozluk = {araba, antika, makinist,}"
      ]
    }
  ]
}